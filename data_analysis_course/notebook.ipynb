{
 "cells": [
  {
   "cell_type": "code",
   "execution_count": 5,
   "metadata": {},
   "outputs": [
    {
     "name": "stdout",
     "output_type": "stream",
     "text": [
      "       person_id         id                    name                character  \\\n",
      "0           3748    tm84618          Robert De Niro            Travis Bickle   \n",
      "1          14658    tm84618            Jodie Foster            Iris Steensma   \n",
      "2           7064    tm84618           Albert Brooks                      Tom   \n",
      "3           3739    tm84618           Harvey Keitel  Matthew 'Sport' Higgins   \n",
      "4          48933    tm84618         Cybill Shepherd                    Betsy   \n",
      "...          ...        ...                     ...                      ...   \n",
      "77208    1347054  tm1098060  Nnenna Rachael Okonkwo                   Afinni   \n",
      "77209     157590  tm1098060           Lucien Morgan           Dr. Ian Stones   \n",
      "77210     129059  tm1098060        Magdalena Korpas                     Jane   \n",
      "77211    2050199  tm1098060        Mistura Olusanya               Nurse Titi   \n",
      "77212    2050423  tm1098060              Yemi Amodu                      NaN   \n",
      "\n",
      "           role  \n",
      "0         ACTOR  \n",
      "1         ACTOR  \n",
      "2         ACTOR  \n",
      "3         ACTOR  \n",
      "4         ACTOR  \n",
      "...         ...  \n",
      "77208     ACTOR  \n",
      "77209     ACTOR  \n",
      "77210     ACTOR  \n",
      "77211     ACTOR  \n",
      "77212  DIRECTOR  \n",
      "\n",
      "[77213 rows x 5 columns]\n"
     ]
    }
   ],
   "source": [
    "import pandas as pd\n",
    "\n",
    "df=pd.read_csv('data/credits.csv', delimiter=',')\n",
    "\n",
    "print(df)"
   ]
  },
  {
   "cell_type": "code",
   "execution_count": 6,
   "metadata": {},
   "outputs": [
    {
     "data": {
      "text/plain": [
       "person_id             7064\n",
       "id                 tm84618\n",
       "name         Albert Brooks\n",
       "character              Tom\n",
       "role                 ACTOR\n",
       "Name: 2, dtype: object"
      ]
     },
     "execution_count": 6,
     "metadata": {},
     "output_type": "execute_result"
    }
   ],
   "source": [
    "df.iloc[2]"
   ]
  }
 ],
 "metadata": {
  "kernelspec": {
   "display_name": "Python 3.10.4 ('.venv': venv)",
   "language": "python",
   "name": "python3"
  },
  "language_info": {
   "codemirror_mode": {
    "name": "ipython",
    "version": 3
   },
   "file_extension": ".py",
   "mimetype": "text/x-python",
   "name": "python",
   "nbconvert_exporter": "python",
   "pygments_lexer": "ipython3",
   "version": "3.10.4"
  },
  "orig_nbformat": 4,
  "vscode": {
   "interpreter": {
    "hash": "58782344eaee943b8f529db40f2fe93ad802ef562f7861be671ca9c7d087175a"
   }
  }
 },
 "nbformat": 4,
 "nbformat_minor": 2
}
